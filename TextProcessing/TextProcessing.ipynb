{
 "cells": [
  {
   "cell_type": "markdown",
   "id": "40002ca5",
   "metadata": {},
   "source": [
    "Basic Text Procession & Regular Expressions\n"
   ]
  },
  {
   "cell_type": "code",
   "execution_count": 1,
   "id": "23b44f7a",
   "metadata": {},
   "outputs": [],
   "source": [
    "text = \"\"\"The sun dipped below the horizon, painting the sky in shades of orange and purple.\n",
    "A lone bird glided silently across the evening breeze, leaving ripples in the calm air.\n",
    "Somewhere in the distance, laughter echoed, blending with the gentle rustle of leaves.\"\"\""
   ]
  },
  {
   "cell_type": "code",
   "execution_count": 2,
   "id": "0cf31488",
   "metadata": {},
   "outputs": [
    {
     "data": {
      "text/plain": [
       "257"
      ]
     },
     "execution_count": 2,
     "metadata": {},
     "output_type": "execute_result"
    }
   ],
   "source": [
    "len(text)"
   ]
  },
  {
   "cell_type": "code",
   "execution_count": 3,
   "id": "70496693",
   "metadata": {},
   "outputs": [
    {
     "data": {
      "text/plain": [
       "['The',\n",
       " 'sun',\n",
       " 'dipped',\n",
       " 'below',\n",
       " 'the',\n",
       " 'horizon,',\n",
       " 'painting',\n",
       " 'the',\n",
       " 'sky',\n",
       " 'in',\n",
       " 'shades',\n",
       " 'of',\n",
       " 'orange',\n",
       " 'and',\n",
       " 'purple.',\n",
       " 'A',\n",
       " 'lone',\n",
       " 'bird',\n",
       " 'glided',\n",
       " 'silently',\n",
       " 'across',\n",
       " 'the',\n",
       " 'evening',\n",
       " 'breeze,',\n",
       " 'leaving',\n",
       " 'ripples',\n",
       " 'in',\n",
       " 'the',\n",
       " 'calm',\n",
       " 'air.',\n",
       " 'Somewhere',\n",
       " 'in',\n",
       " 'the',\n",
       " 'distance,',\n",
       " 'laughter',\n",
       " 'echoed,',\n",
       " 'blending',\n",
       " 'with',\n",
       " 'the',\n",
       " 'gentle',\n",
       " 'rustle',\n",
       " 'of',\n",
       " 'leaves.']"
      ]
     },
     "execution_count": 3,
     "metadata": {},
     "output_type": "execute_result"
    }
   ],
   "source": [
    "text.split()"
   ]
  },
  {
   "cell_type": "code",
   "execution_count": 4,
   "id": "a1b361a6",
   "metadata": {},
   "outputs": [
    {
     "data": {
      "text/plain": [
       "43"
      ]
     },
     "execution_count": 4,
     "metadata": {},
     "output_type": "execute_result"
    }
   ],
   "source": [
    "len(text.split()) #token "
   ]
  },
  {
   "cell_type": "code",
   "execution_count": 5,
   "id": "228c6257",
   "metadata": {},
   "outputs": [
    {
     "data": {
      "text/plain": [
       "{'A',\n",
       " 'Somewhere',\n",
       " 'The',\n",
       " 'across',\n",
       " 'air.',\n",
       " 'and',\n",
       " 'below',\n",
       " 'bird',\n",
       " 'blending',\n",
       " 'breeze,',\n",
       " 'calm',\n",
       " 'dipped',\n",
       " 'distance,',\n",
       " 'echoed,',\n",
       " 'evening',\n",
       " 'gentle',\n",
       " 'glided',\n",
       " 'horizon,',\n",
       " 'in',\n",
       " 'laughter',\n",
       " 'leaves.',\n",
       " 'leaving',\n",
       " 'lone',\n",
       " 'of',\n",
       " 'orange',\n",
       " 'painting',\n",
       " 'purple.',\n",
       " 'ripples',\n",
       " 'rustle',\n",
       " 'shades',\n",
       " 'silently',\n",
       " 'sky',\n",
       " 'sun',\n",
       " 'the',\n",
       " 'with'}"
      ]
     },
     "execution_count": 5,
     "metadata": {},
     "output_type": "execute_result"
    }
   ],
   "source": [
    "set(text.split()) #vocabulary\n"
   ]
  },
  {
   "cell_type": "code",
   "execution_count": 6,
   "id": "e5d0dcec",
   "metadata": {},
   "outputs": [
    {
     "data": {
      "text/plain": [
       "35"
      ]
     },
     "execution_count": 6,
     "metadata": {},
     "output_type": "execute_result"
    }
   ],
   "source": [
    "len(set(text.split()))"
   ]
  },
  {
   "cell_type": "code",
   "execution_count": 7,
   "id": "193dff18",
   "metadata": {},
   "outputs": [],
   "source": [
    "# sorted(text.split())\n",
    "text.split().sort()\n"
   ]
  },
  {
   "cell_type": "code",
   "execution_count": 8,
   "id": "3dc80599",
   "metadata": {},
   "outputs": [],
   "source": [
    "text = text.split()"
   ]
  },
  {
   "cell_type": "code",
   "execution_count": 9,
   "id": "a05b993c",
   "metadata": {},
   "outputs": [
    {
     "data": {
      "text/plain": [
       "'The sun dipped below the horizon, painting the sky in shades of orange and purple. A lone bird glided silently across the evening breeze, leaving ripples in the calm air. Somewhere in the distance, laughter echoed, blending with the gentle rustle of leaves.'"
      ]
     },
     "execution_count": 9,
     "metadata": {},
     "output_type": "execute_result"
    }
   ],
   "source": [
    "\" \".join(text)"
   ]
  },
  {
   "cell_type": "code",
   "execution_count": 10,
   "id": "085f15c9",
   "metadata": {},
   "outputs": [
    {
     "data": {
      "text/plain": [
       "'abc'"
      ]
     },
     "execution_count": 10,
     "metadata": {},
     "output_type": "execute_result"
    }
   ],
   "source": [
    "l = ['a','b','c']\n",
    "\"\".join(l)"
   ]
  },
  {
   "cell_type": "markdown",
   "id": "b323bba6",
   "metadata": {},
   "source": [
    "Reading From File\n",
    "\n",
    "\n"
   ]
  },
  {
   "cell_type": "code",
   "execution_count": 41,
   "id": "2103ca3b",
   "metadata": {},
   "outputs": [],
   "source": [
    "#r= open(\"Txt.txt\").readlines(3)  \n",
    "r= open(\"Txt.txt\").readlines(-1)  "
   ]
  },
  {
   "cell_type": "code",
   "execution_count": 43,
   "id": "8661e308",
   "metadata": {},
   "outputs": [
    {
     "data": {
      "text/plain": [
       "['The sun dipped below the horizon, painting the sky in shades of orange and purple.\\n',\n",
       " 'A lone bird glided silently across the evening breeze, leaving ripples in the calm air.\\n',\n",
       " 'Somewhere in the distance, laughter echoed, blending with the gentle rustle of leaves.']"
      ]
     },
     "execution_count": 43,
     "metadata": {},
     "output_type": "execute_result"
    }
   ],
   "source": [
    "r"
   ]
  },
  {
   "cell_type": "code",
   "execution_count": 46,
   "id": "5d4d88ed",
   "metadata": {},
   "outputs": [
    {
     "name": "stdout",
     "output_type": "stream",
     "text": [
      "dipped\n",
      "glided\n"
     ]
    }
   ],
   "source": [
    "for line in r :\n",
    "    for word in line.split():\n",
    "        if word.endswith('ed'):\n",
    "            print(word)"
   ]
  },
  {
   "cell_type": "code",
   "execution_count": 57,
   "id": "ad42de5c",
   "metadata": {},
   "outputs": [],
   "source": [
    "x = (word for line in r for word in line.split() if word.endswith('ed'))"
   ]
  },
  {
   "cell_type": "code",
   "execution_count": 59,
   "id": "5387592f",
   "metadata": {},
   "outputs": [
    {
     "name": "stdout",
     "output_type": "stream",
     "text": [
      "dipped\n",
      "glided\n"
     ]
    }
   ],
   "source": [
    "for item in x: \n",
    "    print(item)"
   ]
  },
  {
   "cell_type": "code",
   "execution_count": 65,
   "id": "ed3d44dd",
   "metadata": {},
   "outputs": [],
   "source": [
    "#key : value\n",
    "dict2 = dict.fromkeys({word for line in r for word in line.split()})\n",
    "dict2= {key:len(key) for key in dict2.keys()}\n"
   ]
  },
  {
   "cell_type": "code",
   "execution_count": 66,
   "id": "b43aef2c",
   "metadata": {},
   "outputs": [
    {
     "data": {
      "text/plain": [
       "{'sun': 3,\n",
       " 'rustle': 6,\n",
       " 'of': 2,\n",
       " 'air.': 4,\n",
       " 'leaving': 7,\n",
       " 'evening': 7,\n",
       " 'with': 4,\n",
       " 'A': 1,\n",
       " 'breeze,': 7,\n",
       " 'the': 3,\n",
       " 'echoed,': 7,\n",
       " 'across': 6,\n",
       " 'glided': 6,\n",
       " 'painting': 8,\n",
       " 'laughter': 8,\n",
       " 'below': 5,\n",
       " 'leaves.': 7,\n",
       " 'dipped': 6,\n",
       " 'silently': 8,\n",
       " 'lone': 4,\n",
       " 'orange': 6,\n",
       " 'Somewhere': 9,\n",
       " 'ripples': 7,\n",
       " 'gentle': 6,\n",
       " 'horizon,': 8,\n",
       " 'sky': 3,\n",
       " 'distance,': 9,\n",
       " 'purple.': 7,\n",
       " 'in': 2,\n",
       " 'The': 3,\n",
       " 'calm': 4,\n",
       " 'shades': 6,\n",
       " 'bird': 4,\n",
       " 'blending': 8,\n",
       " 'and': 3}"
      ]
     },
     "execution_count": 66,
     "metadata": {},
     "output_type": "execute_result"
    }
   ],
   "source": [
    "dict2"
   ]
  },
  {
   "cell_type": "code",
   "execution_count": 94,
   "id": "e3b9b90c",
   "metadata": {},
   "outputs": [],
   "source": [
    "text = \"\"\"The sun ink dipped below the horizon, painting the sky in shades of orange and purple.\n",
    "A lone bird glided silently across the evening breeze, leaving ripples in the calm air.\n",
    "Somewhere in the distance, laughter echoed, blending with the gentle rustle of leaves.\"\"\""
   ]
  },
  {
   "cell_type": "markdown",
   "id": "4344c5c3",
   "metadata": {},
   "source": [
    "Text Search using Regualar Expressions \n",
    "\n"
   ]
  },
  {
   "cell_type": "code",
   "execution_count": 95,
   "id": "022528cd",
   "metadata": {},
   "outputs": [
    {
     "data": {
      "text/plain": [
       "['ink', 'in', 'in', 'in']"
      ]
     },
     "execution_count": 95,
     "metadata": {},
     "output_type": "execute_result"
    }
   ],
   "source": [
    "import re\n",
    "# s = re.search(r\"[A-Z]\\w+\\b\",text)\n",
    "# s = re.findall(r\"[a-zA-Z]+ed\\b\",text)\n",
    "s = re.findall(r\"\\b[iI]\\w+\",text)\n",
    "s"
   ]
  }
 ],
 "metadata": {
  "kernelspec": {
   "display_name": "Python 3",
   "language": "python",
   "name": "python3"
  },
  "language_info": {
   "codemirror_mode": {
    "name": "ipython",
    "version": 3
   },
   "file_extension": ".py",
   "mimetype": "text/x-python",
   "name": "python",
   "nbconvert_exporter": "python",
   "pygments_lexer": "ipython3",
   "version": "3.13.1"
  }
 },
 "nbformat": 4,
 "nbformat_minor": 5
}
